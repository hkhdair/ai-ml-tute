{
 "cells": [
  {
   "attachments": {},
   "cell_type": "markdown",
   "metadata": {},
   "source": [
    "#### Exercise 1: Basic Data Types"
   ]
  },
  {
   "attachments": {},
   "cell_type": "markdown",
   "metadata": {},
   "source": [
    "Create a program that asks the user for their name and age, and then prints out a message telling them how many years they have until they turn 100.\n",
    "\n",
    "Example output:\n",
    "\n",
    "```md\n",
    "What is your name? Alice\n",
    "What is your age? 30\n",
    "Alice, you will turn 100 in 70 years.\n",
    "```"
   ]
  },
  {
   "cell_type": "code",
   "execution_count": null,
   "metadata": {},
   "outputs": [
    {
     "name": "stdout",
     "output_type": "stream",
     "text": [
      "Alice, you will turn 100 in 70 years.\n"
     ]
    }
   ],
   "source": [
    "# solution\n",
    "name = input(\"What is your name? \")\n",
    "age = int(input(\"What is your age? \"))\n",
    "years_to_100 = 100 - age\n",
    "print(f\"{name}, you will turn 100 in {years_to_100} years.\")"
   ]
  },
  {
   "attachments": {},
   "cell_type": "markdown",
   "metadata": {},
   "source": [
    "#### Exercise 2: Basic Operators"
   ]
  },
  {
   "attachments": {},
   "cell_type": "markdown",
   "metadata": {},
   "source": [
    "Create a program that asks the user for two numbers and then prints out the result of adding, subtracting, multiplying, and dividing them.\n",
    "\n",
    "Example output:\n",
    "\n",
    "```md\n",
    "Enter the first number: 10\n",
    "Enter the second number: 5\n",
    "10 + 5 = 15\n",
    "10 - 5 = 5\n",
    "10 * 5 = 50\n",
    "10 / 5 = 2.0\n",
    "```\n"
   ]
  },
  {
   "cell_type": "code",
   "execution_count": 2,
   "metadata": {},
   "outputs": [
    {
     "name": "stdout",
     "output_type": "stream",
     "text": [
      "10 + 5 = 15\n",
      "10 - 5 = 5\n",
      "10 * 5 = 50\n",
      "10 / 5 = 2.0\n"
     ]
    }
   ],
   "source": [
    "# solution\n",
    "num1 = int(input(\"Enter the first number: \"))\n",
    "num2 = int(input(\"Enter the second number: \"))\n",
    "print(f\"{num1} + {num2} = {num1+num2}\")\n",
    "print(f\"{num1} - {num2} = {num1-num2}\")\n",
    "print(f\"{num1} * {num2} = {num1*num2}\")\n",
    "print(f\"{num1} / {num2} = {num1/num2}\")"
   ]
  },
  {
   "attachments": {},
   "cell_type": "markdown",
   "metadata": {},
   "source": [
    "#### Exercise 3: Print Display"
   ]
  },
  {
   "attachments": {},
   "cell_type": "markdown",
   "metadata": {},
   "source": [
    "Create a program that prompts the user to enter a word, and then prints out each character of the word on a separate line.\n",
    "\n",
    "Example output:\n",
    "\n",
    "```md\n",
    "Enter a word: hello\n",
    "h\n",
    "e\n",
    "l\n",
    "l\n",
    "o\n",
    "```"
   ]
  },
  {
   "cell_type": "code",
   "execution_count": 3,
   "metadata": {},
   "outputs": [
    {
     "name": "stdout",
     "output_type": "stream",
     "text": [
      "h\n",
      "e\n",
      "l\n",
      "l\n",
      "o\n"
     ]
    }
   ],
   "source": [
    "# solution\n",
    "word = input(\"Enter a word: \")\n",
    "for char in word:\n",
    "    print(char)"
   ]
  },
  {
   "attachments": {},
   "cell_type": "markdown",
   "metadata": {},
   "source": [
    "#### Exercise 4: Formatting Print Output"
   ]
  },
  {
   "attachments": {},
   "cell_type": "markdown",
   "metadata": {},
   "source": [
    "Create a program that prompts the user to enter their name and their favorite color, and then prints out a message that says \"Your name is [name] and your favorite color is [color].\"\n",
    "\n",
    "Example output:\n",
    "\n",
    "```md\n",
    "What is your name? Alice\n",
    "What is your favorite color? Blue\n",
    "Your name is Alice and your favorite color is Blue.\n",
    "```"
   ]
  },
  {
   "cell_type": "code",
   "execution_count": 4,
   "metadata": {},
   "outputs": [
    {
     "name": "stdout",
     "output_type": "stream",
     "text": [
      "Your name is Alice and your favorite color is Blue.\n"
     ]
    }
   ],
   "source": [
    "# solution\n",
    "name = input(\"What is your name? \")\n",
    "color = input(\"What is your favorite color? \")\n",
    "print(f\"Your name is {name} and your favorite color is {color}.\")"
   ]
  },
  {
   "cell_type": "code",
   "execution_count": null,
   "metadata": {},
   "outputs": [],
   "source": []
  }
 ],
 "metadata": {
  "kernelspec": {
   "display_name": "base",
   "language": "python",
   "name": "python3"
  },
  "language_info": {
   "codemirror_mode": {
    "name": "ipython",
    "version": 3
   },
   "file_extension": ".py",
   "mimetype": "text/x-python",
   "name": "python",
   "nbconvert_exporter": "python",
   "pygments_lexer": "ipython3",
   "version": "3.10.9"
  },
  "orig_nbformat": 4
 },
 "nbformat": 4,
 "nbformat_minor": 2
}
