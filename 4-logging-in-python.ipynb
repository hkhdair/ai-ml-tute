{
 "cells": [
  {
   "attachments": {},
   "cell_type": "markdown",
   "metadata": {},
   "source": [
    "##### Introduction to Logging in Python\n",
    "Logging is a way to track events and record messages that occur while an application is running. It can be useful for debugging, performance analysis, and auditing purposes. Python's built-in logging module makes it easy to log messages from your code, and provides various features such as log levels, handlers, and formatters."
   ]
  },
  {
   "attachments": {},
   "cell_type": "markdown",
   "metadata": {},
   "source": [
    "##### Basic Logging Example\n",
    "Let's start with a simple example of logging in Python. First, we need to import the logging module:"
   ]
  },
  {
   "cell_type": "code",
   "execution_count": 1,
   "metadata": {},
   "outputs": [],
   "source": [
    "import logging"
   ]
  },
  {
   "attachments": {},
   "cell_type": "markdown",
   "metadata": {},
   "source": [
    "Then, we can use the `basicConfig` method to configure the logging module:"
   ]
  },
  {
   "cell_type": "code",
   "execution_count": 2,
   "metadata": {},
   "outputs": [],
   "source": [
    "logging.basicConfig(level=logging.DEBUG)"
   ]
  },
  {
   "attachments": {},
   "cell_type": "markdown",
   "metadata": {},
   "source": [
    "This sets the root logger's level to `DEBUG`, which means all log messages of level `DEBUG` and higher (i.e. `INFO`, `WARNING`, `ERROR`, and `CRITICAL`) will be output to the console.\n",
    "\n",
    "Now, let's log a message:"
   ]
  },
  {
   "cell_type": "code",
   "execution_count": 3,
   "metadata": {},
   "outputs": [
    {
     "name": "stderr",
     "output_type": "stream",
     "text": [
      "DEBUG:root:This is a debug message\n",
      "INFO:root:This is an info message\n",
      "WARNING:root:This is a warning message\n",
      "ERROR:root:This is an error message\n",
      "CRITICAL:root:This is a critical message\n"
     ]
    }
   ],
   "source": [
    "logging.debug(\"This is a debug message\")\n",
    "logging.info(\"This is an info message\")\n",
    "logging.warning(\"This is a warning message\")\n",
    "logging.error(\"This is an error message\")\n",
    "logging.critical(\"This is a critical message\")"
   ]
  },
  {
   "attachments": {},
   "cell_type": "markdown",
   "metadata": {},
   "source": [
    "##### Logging Levels\n",
    "As mentioned earlier, there are five log levels in Python: `DEBUG`, `INFO`, `WARNING`, `ERROR`, and `CRITICAL`. By default, the logging module only outputs messages of level WARNING and higher. However, you can configure the logging level to output messages of a certain level or higher.\n",
    "\n",
    "For example, to output messages of level `INFO` and higher, you can set the logging level to `INFO`:"
   ]
  },
  {
   "cell_type": "code",
   "execution_count": 4,
   "metadata": {},
   "outputs": [],
   "source": [
    "logging.basicConfig(level=logging.INFO)"
   ]
  },
  {
   "attachments": {},
   "cell_type": "markdown",
   "metadata": {},
   "source": [
    "Now, only messages of level `INFO`, `WARNING`, `ERROR`, and `CRITICAL` will be output to the console."
   ]
  },
  {
   "attachments": {},
   "cell_type": "markdown",
   "metadata": {},
   "source": [
    "##### Using Python’s logging module to log messages and exceptions\n",
    "\n",
    "Here's a complete example code that demonstrates this:\n"
   ]
  },
  {
   "cell_type": "code",
   "execution_count": 5,
   "metadata": {},
   "outputs": [
    {
     "name": "stderr",
     "output_type": "stream",
     "text": [
      "INFO:root:Program starting\n",
      "DEBUG:root:X is 10 and y is 5\n",
      "INFO:root:10 divided by 5 is 2.0\n",
      "ERROR:root:Attempted to divide by zero\n",
      "INFO:root:Program ending\n"
     ]
    },
    {
     "name": "stdout",
     "output_type": "stream",
     "text": [
      "2.0\n",
      "None\n"
     ]
    }
   ],
   "source": [
    "import logging\n",
    "\n",
    "# set up logging\n",
    "logging.basicConfig(level=logging.DEBUG)\n",
    "\n",
    "# define a function that uses logging\n",
    "def divide(x, y):\n",
    "    try:\n",
    "        result = x / y\n",
    "        logging.debug(f\"X is {x} and y is {y}\")\n",
    "    except ZeroDivisionError:\n",
    "        logging.error(\"Attempted to divide by zero\")\n",
    "    else:\n",
    "        logging.info(f\"{x} divided by {y} is {result}\")\n",
    "        return result\n",
    "\n",
    "# use the function and log some messages\n",
    "logging.info(\"Program starting\")\n",
    "print(divide(10, 5))\n",
    "print(divide(5, 0))\n",
    "logging.info(\"Program ending\")\n"
   ]
  },
  {
   "attachments": {},
   "cell_type": "markdown",
   "metadata": {},
   "source": [
    "##### Conclusion\n",
    "\n",
    "logging is an essential tool for debugging and monitoring Python programs. It enables developers to capture and record events that occur during the execution of a program, which can be later used for analysis and troubleshooting.\n",
    "\n",
    "By using logging in your Python programs, you can gain valuable insights into how your program is behaving and quickly identify any issues that may arise during its execution. This can ultimately save you time and effort in debugging and troubleshooting, and help you to deliver high-quality software."
   ]
  }
 ],
 "metadata": {
  "kernelspec": {
   "display_name": "pytorch2",
   "language": "python",
   "name": "python3"
  },
  "language_info": {
   "codemirror_mode": {
    "name": "ipython",
    "version": 3
   },
   "file_extension": ".py",
   "mimetype": "text/x-python",
   "name": "python",
   "nbconvert_exporter": "python",
   "pygments_lexer": "ipython3",
   "version": "3.10.9"
  },
  "orig_nbformat": 4
 },
 "nbformat": 4,
 "nbformat_minor": 2
}
