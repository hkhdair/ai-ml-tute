{
  "cells": [
    {
      "attachments": {},
      "cell_type": "markdown",
      "metadata": {
        "id": "jR0VPczwt_UU"
      },
      "source": [
        "# Deep Learning with PyTorch\n",
        "\n",
        "Classical machine learning relies on using statistics to determine relationships between features and labels, and can be very effective for creating predictive models. However, a massive growth in the availability of data coupled with advances in the computing technology required to process it has led to the emergence of new machine learning techniques that mimic the way the brain processes information in a structure called an artificial neural network.\n",
        "\n",
        "PyTorch is a Python-based open source machine learning framework that leverages the power of graphics processing units (GPUs) to provide a high level of performance for the processing of tensor objects, which can be visualized as multidimensional arrays. PyTorch can be used to create and train neural networks with high performance levels for deep learning tasks. \n",
        "\n",
        "In this notebook, we'll explore the basics of using TensorFlow to create a simple DNN to classify Fashion MNIST dataset. We'll build a neural image classifier using the Fashion MNIST dataset, the aim will be to train a network which can identify various types of clothing based on the low-resolution 28x28 pixel images in this dataset.\n",
        "\n",
        "let's start by importing the pytorch libraries we're going to use. We will start by installing pytorch.You can do this using the pip package manager."
      ]
    },
    {
      "cell_type": "code",
      "execution_count": 1,
      "metadata": {
        "colab": {
          "base_uri": "https://localhost:8080/"
        },
        "id": "b45auuq1t_Uc",
        "outputId": "89c1468f-852d-4738-dba2-d746808a83b5"
      },
      "outputs": [
        {
          "name": "stdout",
          "output_type": "stream",
          "text": [
            "Looking in indexes: https://pypi.org/simple, https://us-python.pkg.dev/colab-wheels/public/simple/\n",
            "Requirement already satisfied: torch in /usr/local/lib/python3.10/dist-packages (2.0.0+cu118)\n",
            "Requirement already satisfied: torchvision in /usr/local/lib/python3.10/dist-packages (0.15.1+cu118)\n",
            "Requirement already satisfied: torchaudio in /usr/local/lib/python3.10/dist-packages (2.0.1+cu118)\n",
            "Requirement already satisfied: typing-extensions in /usr/local/lib/python3.10/dist-packages (from torch) (4.5.0)\n",
            "Requirement already satisfied: filelock in /usr/local/lib/python3.10/dist-packages (from torch) (3.12.0)\n",
            "Requirement already satisfied: sympy in /usr/local/lib/python3.10/dist-packages (from torch) (1.11.1)\n",
            "Requirement already satisfied: jinja2 in /usr/local/lib/python3.10/dist-packages (from torch) (3.1.2)\n",
            "Requirement already satisfied: networkx in /usr/local/lib/python3.10/dist-packages (from torch) (3.1)\n",
            "Requirement already satisfied: triton==2.0.0 in /usr/local/lib/python3.10/dist-packages (from torch) (2.0.0)\n",
            "Requirement already satisfied: lit in /usr/local/lib/python3.10/dist-packages (from triton==2.0.0->torch) (16.0.2)\n",
            "Requirement already satisfied: cmake in /usr/local/lib/python3.10/dist-packages (from triton==2.0.0->torch) (3.25.2)\n",
            "Requirement already satisfied: pillow!=8.3.*,>=5.3.0 in /usr/local/lib/python3.10/dist-packages (from torchvision) (8.4.0)\n",
            "Requirement already satisfied: numpy in /usr/local/lib/python3.10/dist-packages (from torchvision) (1.22.4)\n",
            "Requirement already satisfied: requests in /usr/local/lib/python3.10/dist-packages (from torchvision) (2.27.1)\n",
            "Requirement already satisfied: MarkupSafe>=2.0 in /usr/local/lib/python3.10/dist-packages (from jinja2->torch) (2.1.2)\n",
            "Requirement already satisfied: charset-normalizer~=2.0.0 in /usr/local/lib/python3.10/dist-packages (from requests->torchvision) (2.0.12)\n",
            "Requirement already satisfied: urllib3<1.27,>=1.21.1 in /usr/local/lib/python3.10/dist-packages (from requests->torchvision) (1.26.15)\n",
            "Requirement already satisfied: certifi>=2017.4.17 in /usr/local/lib/python3.10/dist-packages (from requests->torchvision) (2022.12.7)\n",
            "Requirement already satisfied: idna<4,>=2.5 in /usr/local/lib/python3.10/dist-packages (from requests->torchvision) (3.4)\n",
            "Requirement already satisfied: mpmath>=0.19 in /usr/local/lib/python3.10/dist-packages (from sympy->torch) (1.3.0)\n"
          ]
        }
      ],
      "source": [
        "!pip3 install torch torchvision torchaudio"
      ]
    },
    {
      "attachments": {},
      "cell_type": "markdown",
      "metadata": {
        "id": "2ga9jyWEt_Uf"
      },
      "source": [
        "Now we can import `torch` library and check the version, we will import other libraries later on as we need them."
      ]
    },
    {
      "cell_type": "code",
      "execution_count": 2,
      "metadata": {
        "colab": {
          "base_uri": "https://localhost:8080/",
          "height": 35
        },
        "id": "vzk0T9EWt_Uf",
        "outputId": "d1141fb0-d862-4ba6-97f6-477a12b1cb97"
      },
      "outputs": [
        {
          "data": {
            "application/vnd.google.colaboratory.intrinsic+json": {
              "type": "string"
            },
            "text/plain": [
              "'2.0.0+cu118'"
            ]
          },
          "execution_count": 2,
          "metadata": {},
          "output_type": "execute_result"
        }
      ],
      "source": [
        "import torch\n",
        "torch.__version__"
      ]
    },
    {
      "attachments": {},
      "cell_type": "markdown",
      "metadata": {
        "id": "CDst7FQSt_Uh"
      },
      "source": [
        "We will load the Fashion MNIST dataset using the `torch.vision` library, and then create training, validation, test datasets, and define data loaders for loading the data in batches during training and evaluation."
      ]
    },
    {
      "cell_type": "code",
      "execution_count": 3,
      "metadata": {
        "colab": {
          "base_uri": "https://localhost:8080/"
        },
        "id": "dHachb7Zt_Ui",
        "outputId": "c3440041-af6b-40b9-f9a5-e13195c2dbe9"
      },
      "outputs": [
        {
          "name": "stdout",
          "output_type": "stream",
          "text": [
            "Downloading http://fashion-mnist.s3-website.eu-central-1.amazonaws.com/train-images-idx3-ubyte.gz\n",
            "Downloading http://fashion-mnist.s3-website.eu-central-1.amazonaws.com/train-images-idx3-ubyte.gz to ./data/FashionMNIST/raw/train-images-idx3-ubyte.gz\n"
          ]
        },
        {
          "name": "stderr",
          "output_type": "stream",
          "text": [
            "100%|██████████| 26421880/26421880 [00:03<00:00, 8462049.65it/s] \n"
          ]
        },
        {
          "name": "stdout",
          "output_type": "stream",
          "text": [
            "Extracting ./data/FashionMNIST/raw/train-images-idx3-ubyte.gz to ./data/FashionMNIST/raw\n",
            "\n",
            "Downloading http://fashion-mnist.s3-website.eu-central-1.amazonaws.com/train-labels-idx1-ubyte.gz\n",
            "Downloading http://fashion-mnist.s3-website.eu-central-1.amazonaws.com/train-labels-idx1-ubyte.gz to ./data/FashionMNIST/raw/train-labels-idx1-ubyte.gz\n"
          ]
        },
        {
          "name": "stderr",
          "output_type": "stream",
          "text": [
            "100%|██████████| 29515/29515 [00:00<00:00, 143993.08it/s]\n"
          ]
        },
        {
          "name": "stdout",
          "output_type": "stream",
          "text": [
            "Extracting ./data/FashionMNIST/raw/train-labels-idx1-ubyte.gz to ./data/FashionMNIST/raw\n",
            "\n",
            "Downloading http://fashion-mnist.s3-website.eu-central-1.amazonaws.com/t10k-images-idx3-ubyte.gz\n",
            "Downloading http://fashion-mnist.s3-website.eu-central-1.amazonaws.com/t10k-images-idx3-ubyte.gz to ./data/FashionMNIST/raw/t10k-images-idx3-ubyte.gz\n"
          ]
        },
        {
          "name": "stderr",
          "output_type": "stream",
          "text": [
            "100%|██████████| 4422102/4422102 [00:01<00:00, 2752914.47it/s]\n"
          ]
        },
        {
          "name": "stdout",
          "output_type": "stream",
          "text": [
            "Extracting ./data/FashionMNIST/raw/t10k-images-idx3-ubyte.gz to ./data/FashionMNIST/raw\n",
            "\n",
            "Downloading http://fashion-mnist.s3-website.eu-central-1.amazonaws.com/t10k-labels-idx1-ubyte.gz\n",
            "Downloading http://fashion-mnist.s3-website.eu-central-1.amazonaws.com/t10k-labels-idx1-ubyte.gz to ./data/FashionMNIST/raw/t10k-labels-idx1-ubyte.gz\n"
          ]
        },
        {
          "name": "stderr",
          "output_type": "stream",
          "text": [
            "100%|██████████| 5148/5148 [00:00<00:00, 6559014.88it/s]"
          ]
        },
        {
          "name": "stdout",
          "output_type": "stream",
          "text": [
            "Extracting ./data/FashionMNIST/raw/t10k-labels-idx1-ubyte.gz to ./data/FashionMNIST/raw\n",
            "\n"
          ]
        },
        {
          "name": "stderr",
          "output_type": "stream",
          "text": [
            "\n"
          ]
        }
      ],
      "source": [
        "from torchvision import datasets, transforms\n",
        "\n",
        "# Define a transform to normalize the data to [0,1]\n",
        "transform = transforms.ToTensor()\n",
        "\n",
        "# Download and load the training data\n",
        "trainset = datasets.FashionMNIST('./data', download=True, train=True, transform=transform)\n",
        "\n",
        "# Split the training data into validation and training sets\n",
        "valid_size = 5000\n",
        "train_size = len(trainset) - valid_size\n",
        "trainset, validset = torch.utils.data.random_split(trainset, [train_size, valid_size])\n",
        "\n",
        "# create a training and validation data loader\n",
        "trainloader = torch.utils.data.DataLoader(trainset, batch_size=64, shuffle=True)\n",
        "validloader = torch.utils.data.DataLoader(validset, batch_size=64, shuffle=True)\n",
        "\n",
        "# Download and load the test data and create a testloader\n",
        "testset = datasets.FashionMNIST('./data', download=True, train=False, transform=transform)\n",
        "testloader = torch.utils.data.DataLoader(testset, batch_size=64)"
      ]
    },
    {
      "attachments": {},
      "cell_type": "markdown",
      "metadata": {
        "id": "Xfy399fmA3nD"
      },
      "source": [
        "In the above code, we downloaded the Fashion MNIST dataset from `torchvision.datasets`, which is a mdule that provides many built-in datasets for computer vision tasks, including Fashion MNIST.\n",
        "\n",
        "We created data loaders for training, testing, and validation sets with a batch size of 64. We splited the training set into two subsets with 5000 samples for validation and the rest for training.\n",
        "\n",
        "`torch.utils.data.DataLoader` is a class that provides an iterable over a dataset. It can handle batching, shuffling, and multiprocessing of data loading. It can also work with both map-style and iterable-style datasets. A DataLoader takes a dataset object as an argument, and optionally a sampler, a batch size, a number of workers, and other parameters."
      ]
    },
    {
      "attachments": {},
      "cell_type": "markdown",
      "metadata": {},
      "source": [
        "Now, let's load one batch of data from the `trainloader` object that we created earlier. The `trainloader` is an iterable, so we can use the `next` function to get a batch. Each batch is a list of two items: a list of 64 images (which is the batch size we defined), and a list of 64 labels. We can see the shape of the image tensor, and the labels for the 64 images."
      ]
    },
    {
      "cell_type": "code",
      "execution_count": 4,
      "metadata": {
        "colab": {
          "base_uri": "https://localhost:8080/"
        },
        "id": "KRh6YnWGDZRh",
        "outputId": "b7dffe55-fecd-45f7-89f2-231dd277c328"
      },
      "outputs": [
        {
          "data": {
            "text/plain": [
              "(torch.Size([64, 1, 28, 28]), torch.Size([64]))"
            ]
          },
          "execution_count": 4,
          "metadata": {},
          "output_type": "execute_result"
        }
      ],
      "source": [
        "image, label = next(iter(trainloader))\n",
        "\n",
        "image.shape, label.shape"
      ]
    },
    {
      "attachments": {},
      "cell_type": "markdown",
      "metadata": {},
      "source": [
        "Images are stored in tensors with the dimensions: (batch size, color channels, height, width). In this case, the images are grayscale, so there is just one color channel. The images are 28x28 pixels, so the height and width are both 28."
      ]
    },
    {
      "attachments": {},
      "cell_type": "markdown",
      "metadata": {
        "id": "PJMAUuJWt_Ui"
      },
      "source": [
        "We can visually check the content of the images and labels using `matplotlib`. Let's have a look at one of the images in the batch."
      ]
    },
    {
      "cell_type": "code",
      "execution_count": 5,
      "metadata": {
        "colab": {
          "base_uri": "https://localhost:8080/",
          "height": 406
        },
        "id": "Z3i8YE6Xt_Uj",
        "outputId": "bd412cbf-fa83-4bbf-ca73-06f118bf032b"
      },
      "outputs": [
        {
          "data": {
            "image/png": "[encoded data removed]",
            "text/plain": [
              "<Figure size 640x480 with 1 Axes>"
            ]
          },
          "metadata": {},
          "output_type": "display_data"
        }
      ],
      "source": [
        "import matplotlib.pyplot as plt\n",
        "# permute the dimensions of the image to move the color channels to the last dimension\n",
        "# this is because matplotlib expects the image to be HxWxC (H=height x W=width x C=color channel), \\\n",
        "# while pytorch has it as the first dimension as CxHxW (C=color channel, H=height, W=width)\n",
        "plt.imshow(image[1].permute(1, 2, 0).squeeze(), cmap=\"binary\")\n",
        "plt.axis('off')\n",
        "plt.show()"
      ]
    },
    {
      "attachments": {},
      "cell_type": "markdown",
      "metadata": {},
      "source": [
        "Let's get the classes names from the dataset object. We need this to map the numeric label in the dataset to the actual classes."
      ]
    },
    {
      "cell_type": "code",
      "execution_count": 6,
      "metadata": {
        "colab": {
          "base_uri": "https://localhost:8080/"
        },
        "id": "OGCRMLngt_Uk",
        "outputId": "3950b195-88d3-4d25-8f80-a564256ff4a3"
      },
      "outputs": [
        {
          "data": {
            "text/plain": [
              "['T-shirt/top',\n",
              " 'Trouser',\n",
              " 'Pullover',\n",
              " 'Dress',\n",
              " 'Coat',\n",
              " 'Sandal',\n",
              " 'Shirt',\n",
              " 'Sneaker',\n",
              " 'Bag',\n",
              " 'Ankle boot']"
            ]
          },
          "execution_count": 6,
          "metadata": {},
          "output_type": "execute_result"
        }
      ],
      "source": [
        "class_names = trainset.dataset.classes\n",
        "class_names"
      ]
    },
    {
      "attachments": {},
      "cell_type": "markdown",
      "metadata": {},
      "source": [
        "Now we can use the class_names list to get the label for the image in the batch that we loaded in the previous step."
      ]
    },
    {
      "cell_type": "code",
      "execution_count": 7,
      "metadata": {
        "colab": {
          "base_uri": "https://localhost:8080/",
          "height": 35
        },
        "id": "dOoBTcHcJGuX",
        "outputId": "ec0afbb0-4b1a-4c3e-92dd-5d4caee255f8"
      },
      "outputs": [
        {
          "data": {
            "application/vnd.google.colaboratory.intrinsic+json": {
              "type": "string"
            },
            "text/plain": [
              "'Shirt'"
            ]
          },
          "execution_count": 7,
          "metadata": {},
          "output_type": "execute_result"
        }
      ],
      "source": [
        "class_names[label[1]]"
      ]
    },
    {
      "attachments": {},
      "cell_type": "markdown",
      "metadata": {},
      "source": [
        "Great! We have loaded the data and are ready to define our neural network model."
      ]
    },
    {
      "attachments": {},
      "cell_type": "markdown",
      "metadata": {
        "id": "Y7l1vvACt_Ul"
      },
      "source": [
        "## Define a neural network\n",
        "\n"
      ]
    },
    {
      "attachments": {},
      "cell_type": "markdown",
      "metadata": {},
      "source": [
        "Let's define a neural network that consists of four fully connected layers, using the `torch.nn` package from PyTorch. \n",
        "\n",
        "The first layer being a flattening layer that converts the 28x28 pixel input images into 784 pixel (28*28) vectors.\n",
        "\n",
        "The subsequent layers are linear layers followed by ReLU activation functions. The `nn.Linear` class takes as parameters the size of the input features and the size of the output features, and creates a linear transformation function with the given shape of weights and biases. The number of input features of a layer must match the number of output features of the previous layer. We choose the number of input and output features for each layer based on the structure that we want to create for our neural network.\n",
        "\n",
        "The last layer is also a linear layer, but it has 10 output features, because we want to output 10 scores, one for each class. "
      ]
    },
    {
      "cell_type": "code",
      "execution_count": 8,
      "metadata": {
        "id": "d4wxdobot_Ul",
        "tags": []
      },
      "outputs": [],
      "source": [
        "import torch.nn as nn\n",
        "\n",
        "model = nn.Sequential(\n",
        "    nn.Flatten(), # this will flatten the image batches as torch.Size([64, 784])\n",
        "    \n",
        "    nn.Linear(784, 256),\n",
        "    nn.ReLU(),\n",
        "\n",
        "    nn.Linear(256, 128),\n",
        "    nn.ReLU(),\n",
        "\n",
        "    nn.Linear(128, 64),\n",
        "    nn.ReLU(),\n",
        "\n",
        "    nn.Linear(64, 10)\n",
        ")"
      ]
    },
    {
      "attachments": {},
      "cell_type": "markdown",
      "metadata": {
        "id": "_QKrot8nt_Un"
      },
      "source": [
        "## Train the model\n",
        "\n"
      ]
    },
    {
      "attachments": {},
      "cell_type": "markdown",
      "metadata": {
        "id": "FOuXdzNCNUqU"
      },
      "source": [
        "Once the model is created, we can check its structure by simply printing it. \n",
        "We can also use the `parameters` function to get the weights and biases of each layer. if we want to get the weights and biases of a specific layer, we can use the `state_dict` function. We can manually set the weights and biases of a layer using the `load_state_dict` function."
      ]
    },
    {
      "attachments": {},
      "cell_type": "markdown",
      "metadata": {},
      "source": [
        "Now let's create an object for the Cuda device, and move the model parameters to the GPU device. And print the model to view it's structure."
      ]
    },
    {
      "cell_type": "code",
      "execution_count": 9,
      "metadata": {
        "colab": {
          "base_uri": "https://localhost:8080/"
        },
        "id": "OvC02qIkt_Un",
        "outputId": "6b097643-6093-415c-cc56-375377a5dc1f",
        "scrolled": true,
        "tags": []
      },
      "outputs": [
        {
          "data": {
            "text/plain": [
              "(device(type='cuda'),\n",
              " Sequential(\n",
              "   (0): Flatten(start_dim=1, end_dim=-1)\n",
              "   (1): Linear(in_features=784, out_features=256, bias=True)\n",
              "   (2): ReLU()\n",
              "   (3): Linear(in_features=256, out_features=128, bias=True)\n",
              "   (4): ReLU()\n",
              "   (5): Linear(in_features=128, out_features=64, bias=True)\n",
              "   (6): ReLU()\n",
              "   (7): Linear(in_features=64, out_features=10, bias=True)\n",
              " ))"
            ]
          },
          "execution_count": 9,
          "metadata": {},
          "output_type": "execute_result"
        }
      ],
      "source": [
        "device = torch.device(\"cuda\" if torch.cuda.is_available() else \"cpu\")\n",
        "device, model.to(device)"
      ]
    },
    {
      "attachments": {},
      "cell_type": "markdown",
      "metadata": {},
      "source": [
        "Then, we define the loss function and the optimizer. We use the `CrossEntropyLoss` function as the loss function, which is suitable for classification problems with multiple classes. We use the `Adam` optimizer, which is a variant of the stochastic gradient descent algorithm. We pass the model parameters to the optimizer so that it can update the weights of the model during training.\n",
        "\n",
        "Let's train our model for 10 epochs. We create a variable epochs to store the number of epochs."
      ]
    },
    {
      "cell_type": "code",
      "execution_count": 10,
      "metadata": {
        "id": "WhMP1zWgu1HL"
      },
      "outputs": [],
      "source": [
        "import torch.optim as optim\n",
        "\n",
        "criterion = nn.CrossEntropyLoss()\n",
        "\n",
        "optimizer = optim.Adam(model.parameters(), lr=0.001)\n",
        "\n",
        "epochs = 10"
      ]
    },
    {
      "attachments": {},
      "cell_type": "markdown",
      "metadata": {},
      "source": [
        "Let's define a function for training the model. \n",
        "\n",
        "We will create varaibles to store the loss and accuracy for each epoch, and then iterate over the number of epochs, loading a batch of images and labels at a time from the training set."
      ]
    },
    {
      "cell_type": "code",
      "execution_count": 11,
      "metadata": {
        "id": "QSpYjzEisTEc"
      },
      "outputs": [],
      "source": [
        "# Define empty lists to store training losses and accuracies\n",
        "train_losses = []\n",
        "train_accuracy = []\n",
        "\n",
        "# Define a function named train that takes an epoch number as input\n",
        "def train(epoch):\n",
        "\n",
        "  # Print the current epoch number\n",
        "  print('\\nEpoch : %d'%epoch)\n",
        "\n",
        "  # Set the model to training mode\n",
        "  model.train()\n",
        "\n",
        "  # Initialize variables to keep track of running loss, number of correct predictions, and number of samples\n",
        "  running_loss = 0\n",
        "  num_correct = 0\n",
        "  num_samples = 0\n",
        "\n",
        "  # Loop over the training data\n",
        "  for images, labels in trainloader:\n",
        "\n",
        "    # Move the images and labels to the device (CPU or GPU)\n",
        "    images, labels = images.to(device), labels.to(device)\n",
        "\n",
        "    # Forward pass: compute the model's predictions\n",
        "    outputs = model(images)\n",
        "\n",
        "    # Compute the loss between the predictions and the true labels\n",
        "    loss = criterion(outputs,labels)\n",
        "    \n",
        "    # Zero the gradients of the model's parameters\n",
        "    optimizer.zero_grad()\n",
        "    # Backward pass: compute the gradients of the loss with respect to the model's parameters\n",
        "    loss.backward()\n",
        "    # Update the model's parameters using the computed gradients\n",
        "    optimizer.step()\n",
        "\n",
        "    # Update the running loss by adding the loss for the mini-batch\n",
        "    running_loss += loss.item()\n",
        "\n",
        "    # Compute the number of correct predictions and the number of samples\n",
        "    _, predicted = outputs.max(1)\n",
        "    num_samples += labels.size(0)\n",
        "    num_correct += (predicted == labels).sum().item()\n",
        "\n",
        "  # Compute the average training loss and accuracy\n",
        "  train_loss = running_loss / len(trainloader)\n",
        "  accuracy = 100 * num_correct / num_samples\n",
        "\n",
        "  # Append the average training loss and accuracy to the lists of losses and accuracies for the epochs\n",
        "  train_accuracy.append(accuracy)\n",
        "  train_losses.append(train_loss)\n",
        "\n",
        "  # Print the average training loss and accuracy for the epoch\n",
        "  print('Train Loss: %.3f | Accuracy: %.3f'%(train_loss, accuracy))"
      ]
    },
    {
      "attachments": {},
      "cell_type": "markdown",
      "metadata": {},
      "source": [
        "Likewise, we'll define a funtion to evaluate the model on the validation set that we created earlier."
      ]
    },
    {
      "cell_type": "code",
      "execution_count": 12,
      "metadata": {
        "id": "quW4zFiassKJ"
      },
      "outputs": [],
      "source": [
        "# Define empty lists to store training losses and accuracies\n",
        "val_losses = []\n",
        "val_accuracy = []\n",
        "\n",
        "# Define a function named \"valid\" that performs validation on a PyTorch model\n",
        "def valid(epoch):\n",
        "  # Set the model to evaluation mode\n",
        "  model.eval()\n",
        "\n",
        "  # Initialize variables to keep track of loss and accuracy\n",
        "  running_loss = 0\n",
        "  num_correct = 0\n",
        "  num_samples = 0\n",
        "\n",
        "  # Iterate over the validation data using a validloader object\n",
        "  with torch.no_grad():\n",
        "    for images, labels in validloader:\n",
        "      # Load the images and labels onto the device (GPU or CPU)\n",
        "      images, labels = images.to(device), labels.to(device)\n",
        "\n",
        "      # Use the model to make predictions on the images\n",
        "      outputs = model(images)\n",
        "\n",
        "      # Calculate the loss between the predicted outputs and the actual labels\n",
        "      loss = criterion(outputs,labels)\n",
        "\n",
        "      # Update the running loss by adding the current batch loss to it\n",
        "      running_loss += loss.item()\n",
        "\n",
        "      # Update the number of correct predictions by comparing the predicted labels with the actual labels\n",
        "      _, predicted = outputs.max(1)\n",
        "      num_samples += labels.size(0)\n",
        "      num_correct += (predicted == labels).sum().item()\n",
        "\n",
        "  # Calculate the average validation loss and accuracy\n",
        "  val_loss = running_loss / len(validloader)\n",
        "  accuracy = 100 * num_correct / num_samples\n",
        "\n",
        "  # Append the validation loss and accuracy to the lists of losses and accuracies for the epochs\n",
        "  val_losses.append(val_loss)\n",
        "  val_accuracy.append(accuracy)\n",
        "\n",
        "  # Print the validation loss and accuracy\n",
        "  print('Validation Loss: %.3f | Accuracy: %.3f'%(val_loss, accuracy)) "
      ]
    },
    {
      "attachments": {},
      "cell_type": "markdown",
      "metadata": {},
      "source": [
        "Then we call the train and valid funtions to train and evaluate the model for 10 epochs."
      ]
    },
    {
      "cell_type": "code",
      "execution_count": 13,
      "metadata": {
        "colab": {
          "base_uri": "https://localhost:8080/"
        },
        "id": "XykpJ_ITtNPJ",
        "outputId": "9bd8d7f1-9cc6-4418-929a-56c2a0b6ea2a"
      },
      "outputs": [
        {
          "name": "stdout",
          "output_type": "stream",
          "text": [
            "\n",
            "Epoch : 1\n",
            "Train Loss: 0.566 | Accuracy: 79.625\n",
            "Validation Loss: 0.400 | Accuracy: 85.260\n",
            "\n",
            "Epoch : 2\n",
            "Train Loss: 0.388 | Accuracy: 85.838\n",
            "Validation Loss: 0.347 | Accuracy: 87.380\n",
            "\n",
            "Epoch : 3\n",
            "Train Loss: 0.341 | Accuracy: 87.538\n",
            "Validation Loss: 0.341 | Accuracy: 87.200\n",
            "\n",
            "Epoch : 4\n",
            "Train Loss: 0.317 | Accuracy: 88.391\n",
            "Validation Loss: 0.331 | Accuracy: 88.080\n",
            "\n",
            "Epoch : 5\n",
            "Train Loss: 0.298 | Accuracy: 89.105\n",
            "Validation Loss: 0.322 | Accuracy: 88.360\n",
            "\n",
            "Epoch : 6\n",
            "Train Loss: 0.283 | Accuracy: 89.442\n",
            "Validation Loss: 0.312 | Accuracy: 88.380\n",
            "\n",
            "Epoch : 7\n",
            "Train Loss: 0.269 | Accuracy: 89.993\n",
            "Validation Loss: 0.304 | Accuracy: 88.780\n",
            "\n",
            "Epoch : 8\n",
            "Train Loss: 0.257 | Accuracy: 90.436\n",
            "Validation Loss: 0.313 | Accuracy: 88.740\n",
            "\n",
            "Epoch : 9\n",
            "Train Loss: 0.246 | Accuracy: 90.798\n",
            "Validation Loss: 0.304 | Accuracy: 88.660\n",
            "\n",
            "Epoch : 10\n",
            "Train Loss: 0.237 | Accuracy: 91.129\n",
            "Validation Loss: 0.303 | Accuracy: 89.420\n"
          ]
        }
      ],
      "source": [
        "for epoch in range(1, epochs+1): \n",
        "  train(epoch)\n",
        "  valid(epoch)"
      ]
    },
    {
      "attachments": {},
      "cell_type": "markdown",
      "metadata": {},
      "source": [
        "Let's plot the accuracy values achieved during training for the training and validation sets."
      ]
    },
    {
      "cell_type": "code",
      "execution_count": 14,
      "metadata": {
        "colab": {
          "base_uri": "https://localhost:8080/",
          "height": 472
        },
        "id": "oJIM3KeyvfNh",
        "outputId": "03c3c975-6d2c-437b-de7b-f661a2cd6300"
      },
      "outputs": [
        {
          "data": {
            "image/png": "[encoded data removed]",
            "text/plain": [
              "<Figure size 640x480 with 1 Axes>"
            ]
          },
          "metadata": {},
          "output_type": "display_data"
        }
      ],
      "source": [
        "#plot accuracy\n",
        "\n",
        "plt.plot(train_accuracy,'-o')\n",
        "plt.plot(val_accuracy,'-o')\n",
        "plt.xlabel('epoch')\n",
        "plt.ylabel('accuracy')\n",
        "plt.legend(['Train','Valid'])\n",
        "plt.title('Train vs Valid Accuracy')\n",
        "\n",
        "plt.show()"
      ]
    },
    {
      "attachments": {},
      "cell_type": "markdown",
      "metadata": {},
      "source": [
        "And plot the loss values achieved during training for the training and validation sets."
      ]
    },
    {
      "cell_type": "code",
      "execution_count": 15,
      "metadata": {
        "colab": {
          "base_uri": "https://localhost:8080/",
          "height": 472
        },
        "id": "KRy-BxXJvnq8",
        "outputId": "43ec30f3-f864-4caf-d0b3-a073b7193695"
      },
      "outputs": [
        {
          "data": {
            "image/png": "[encoded data removed]",
            "text/plain": [
              "<Figure size 640x480 with 1 Axes>"
            ]
          },
          "metadata": {},
          "output_type": "display_data"
        }
      ],
      "source": [
        "#plot losses\n",
        "\n",
        "plt.plot(train_losses,'-o')\n",
        "plt.plot(val_losses,'-o')\n",
        "plt.xlabel('epoch')\n",
        "plt.ylabel('losses')\n",
        "plt.legend(['Train','Valid'])\n",
        "plt.title('Train vs Valid Losses')\n",
        "\n",
        "plt.show()"
      ]
    },
    {
      "attachments": {},
      "cell_type": "markdown",
      "metadata": {},
      "source": [
        "How does the model perform on the test set? Let's evaluate it on the test set."
      ]
    },
    {
      "cell_type": "code",
      "execution_count": 16,
      "metadata": {
        "colab": {
          "base_uri": "https://localhost:8080/"
        },
        "id": "x12Zdqfuw2t-",
        "outputId": "ba81b54e-cad4-4928-883b-40782442992f"
      },
      "outputs": [
        {
          "name": "stdout",
          "output_type": "stream",
          "text": [
            "The accuracy of the model is 88.05%\n"
          ]
        }
      ],
      "source": [
        "num_correct = 0\n",
        "num_samples = 0\n",
        "model.eval()\n",
        "\n",
        "with torch.no_grad():\n",
        "    for images, labels in testloader:\n",
        "        images, labels = images.to(device), labels.to(device)\n",
        "\n",
        "        outputs = model(images)\n",
        "        _, predicted = outputs.max(1)\n",
        "        num_samples += labels.size(0)\n",
        "        num_correct += predicted.eq(labels).sum().item()\n",
        "\n",
        "\n",
        "    accuracy= 100 * num_correct / num_samples\n",
        "    print(f\"The accuracy of the model is {accuracy:.2f}%\")"
      ]
    },
    {
      "attachments": {},
      "cell_type": "markdown",
      "metadata": {
        "id": "Z4cXwFFht_Ur"
      },
      "source": [
        "## Save the trained model\n",
        "Now we know the model is reasonably accurate, we can save its trained weights for use later for inference. We can simply use the `save` method to save the model object."
      ]
    },
    {
      "cell_type": "code",
      "execution_count": 18,
      "metadata": {
        "id": "q-_JDhrYxXG9"
      },
      "outputs": [],
      "source": [
        "torch.save(model, 'models/fashion-mnist-pytorch.pth')"
      ]
    },
    {
      "attachments": {},
      "cell_type": "markdown",
      "metadata": {
        "id": "2TvswgMQt_Us"
      },
      "source": [
        "## Learn more\n",
        "\n",
        "This notebook was designed to help you understand the basic concepts and principles involved in deep neural networks, using a simple PyTorch example. To learn more about PyTorch, take a look at the <a href=\"https://pytorch.org/tutorials/\" target=\"_blank\">PyTorch Tutorials</a>."
      ]
    }
  ],
  "metadata": {
    "accelerator": "GPU",
    "colab": {
      "gpuType": "T4",
      "provenance": []
    },
    "gpuClass": "standard",
    "kernelspec": {
      "display_name": "pytorch2",
      "language": "python",
      "name": "python3"
    },
    "language_info": {
      "codemirror_mode": {
        "name": "ipython",
        "version": 3
      },
      "file_extension": ".py",
      "mimetype": "text/x-python",
      "name": "python",
      "nbconvert_exporter": "python",
      "pygments_lexer": "ipython3",
      "version": "3.10.9"
    }
  },
  "nbformat": 4,
  "nbformat_minor": 0
}
