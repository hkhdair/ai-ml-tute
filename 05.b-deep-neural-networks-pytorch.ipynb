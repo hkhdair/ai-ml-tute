{
  "cells": [
    {
      "attachments": {},
      "cell_type": "markdown",
      "metadata": {
        "id": "jR0VPczwt_UU"
      },
      "source": [
        "# Deep Learning with PyTorch\n",
        "\n",
        "Classical machine learning relies on using statistics to determine relationships between features and labels, and can be very effective for creating predictive models. However, a massive growth in the availability of data coupled with advances in the computing technology required to process it has led to the emergence of new machine learning techniques that mimic the way the brain processes information in a structure called an artificial neural network.\n",
        "\n",
        "PyTorch is a Python-based open source machine learning framework that leverages the power of graphics processing units (GPUs) to provide a high level of performance for the processing of tensor objects, which can be visualized as multidimensional arrays. PyTorch can be used to create and train neural networks with high performance levels for deep learning tasks. \n",
        "\n",
        "In this notebook, we'll explore the basics of using TensorFlow to create a simple DNN to classify Fashion MNIST dataset. We'll build a neural image classifier using the Fashion MNIST dataset, the aim will be to train a network which can identify various types of clothing based on the low-resolution 28x28 pixel images in this dataset.\n",
        "\n",
        "let's start by importing the pytorch libraries we're going to use. We will start by installing pytorch.You can do this using the pip package manager."
      ]
    },
    {
      "cell_type": "code",
      "execution_count": 1,
      "metadata": {
        "colab": {
          "base_uri": "https://localhost:8080/"
        },
        "id": "b45auuq1t_Uc",
        "outputId": "44ccc5fb-c1c0-4d41-c546-9731a9a64093"
      },
      "outputs": [
        {
          "name": "stdout",
          "output_type": "stream",
          "text": [
            "Looking in indexes: https://pypi.org/simple, https://us-python.pkg.dev/colab-wheels/public/simple/\n",
            "Requirement already satisfied: torch in /usr/local/lib/python3.10/dist-packages (2.0.0+cu118)\n",
            "Requirement already satisfied: torchvision in /usr/local/lib/python3.10/dist-packages (0.15.1+cu118)\n",
            "Requirement already satisfied: torchaudio in /usr/local/lib/python3.10/dist-packages (2.0.1+cu118)\n",
            "Requirement already satisfied: triton==2.0.0 in /usr/local/lib/python3.10/dist-packages (from torch) (2.0.0)\n",
            "Requirement already satisfied: networkx in /usr/local/lib/python3.10/dist-packages (from torch) (3.1)\n",
            "Requirement already satisfied: typing-extensions in /usr/local/lib/python3.10/dist-packages (from torch) (4.5.0)\n",
            "Requirement already satisfied: sympy in /usr/local/lib/python3.10/dist-packages (from torch) (1.11.1)\n",
            "Requirement already satisfied: filelock in /usr/local/lib/python3.10/dist-packages (from torch) (3.12.0)\n",
            "Requirement already satisfied: jinja2 in /usr/local/lib/python3.10/dist-packages (from torch) (3.1.2)\n",
            "Requirement already satisfied: cmake in /usr/local/lib/python3.10/dist-packages (from triton==2.0.0->torch) (3.25.2)\n",
            "Requirement already satisfied: lit in /usr/local/lib/python3.10/dist-packages (from triton==2.0.0->torch) (16.0.2)\n",
            "Requirement already satisfied: pillow!=8.3.*,>=5.3.0 in /usr/local/lib/python3.10/dist-packages (from torchvision) (8.4.0)\n",
            "Requirement already satisfied: requests in /usr/local/lib/python3.10/dist-packages (from torchvision) (2.27.1)\n",
            "Requirement already satisfied: numpy in /usr/local/lib/python3.10/dist-packages (from torchvision) (1.22.4)\n",
            "Requirement already satisfied: MarkupSafe>=2.0 in /usr/local/lib/python3.10/dist-packages (from jinja2->torch) (2.1.2)\n",
            "Requirement already satisfied: urllib3<1.27,>=1.21.1 in /usr/local/lib/python3.10/dist-packages (from requests->torchvision) (1.26.15)\n",
            "Requirement already satisfied: certifi>=2017.4.17 in /usr/local/lib/python3.10/dist-packages (from requests->torchvision) (2022.12.7)\n",
            "Requirement already satisfied: idna<4,>=2.5 in /usr/local/lib/python3.10/dist-packages (from requests->torchvision) (3.4)\n",
            "Requirement already satisfied: charset-normalizer~=2.0.0 in /usr/local/lib/python3.10/dist-packages (from requests->torchvision) (2.0.12)\n",
            "Requirement already satisfied: mpmath>=0.19 in /usr/local/lib/python3.10/dist-packages (from sympy->torch) (1.3.0)\n"
          ]
        }
      ],
      "source": [
        "!pip3 install torch torchvision torchaudio"
      ]
    },
    {
      "attachments": {},
      "cell_type": "markdown",
      "metadata": {
        "id": "2ga9jyWEt_Uf"
      },
      "source": [
        "now we can import `torch` libarary and check the version, we will import other libraries later as we need them."
      ]
    },
    {
      "cell_type": "code",
      "execution_count": 1,
      "metadata": {
        "colab": {
          "base_uri": "https://localhost:8080/",
          "height": 35
        },
        "id": "vzk0T9EWt_Uf",
        "outputId": "d861f5ff-c32a-49e9-93b3-c0e8aeac52e6"
      },
      "outputs": [
        {
          "data": {
            "text/plain": [
              "'2.0.0+cu117'"
            ]
          },
          "execution_count": 1,
          "metadata": {},
          "output_type": "execute_result"
        }
      ],
      "source": [
        "import torch\n",
        "torch.__version__"
      ]
    },
    {
      "attachments": {},
      "cell_type": "markdown",
      "metadata": {
        "id": "CDst7FQSt_Uh"
      },
      "source": [
        "To load the Fashion MNIST dataset using the torch.vision library, you can use the following code:"
      ]
    },
    {
      "cell_type": "code",
      "execution_count": 2,
      "metadata": {
        "id": "dHachb7Zt_Ui"
      },
      "outputs": [],
      "source": [
        "from torchvision import datasets, transforms\n",
        "\n",
        "# Define a transform to normalize the data to [0,1]\n",
        "transform = transforms.ToTensor()\n",
        "\n",
        "# Download and load the training data\n",
        "trainset = datasets.FashionMNIST('./data', download=True, train=True, transform=transform)\n",
        "\n",
        "# Split the training data into validation and training sets\n",
        "valid_size = 5000\n",
        "train_size = len(trainset) - valid_size\n",
        "trainset, validset = torch.utils.data.random_split(trainset, [train_size, valid_size])\n",
        "\n",
        "# create a training and validation data loader\n",
        "trainloader = torch.utils.data.DataLoader(trainset, batch_size=64, shuffle=True)\n",
        "validloader = torch.utils.data.DataLoader(validset, batch_size=64, shuffle=True)\n",
        "\n",
        "# Download and load the test data and create a testloader\n",
        "testset = datasets.FashionMNIST('./data', download=True, train=False, transform=transform)\n",
        "testloader = torch.utils.data.DataLoader(testset, batch_size=64)"
      ]
    },
    {
      "attachments": {},
      "cell_type": "markdown",
      "metadata": {
        "id": "Xfy399fmA3nD"
      },
      "source": [
        "We downloaded the Fashion MNIST dataset from `torchvision.datasets`, which is a mdule that provides many built-in datasets for computer vision tasks, including Fashion MNIST.\n",
        "\n",
        "We created data loaders for training, testing, and validation sets with a batch size of 64. We splited the training set into two subsets with 5000 samples for validation and the rest for training.\n",
        "\n",
        "`torch.utils.data.DataLoader` is a class that provides an iterable over a dataset. It can handle batching, shuffling, and multiprocessing of data loading. It can also work with both map-style and iterable-style datasets. A DataLoader takes a dataset object as an argument, and optionally a sampler, a batch size, a number of workers, and other parameters."
      ]
    },
    {
      "cell_type": "code",
      "execution_count": 3,
      "metadata": {
        "colab": {
          "base_uri": "https://localhost:8080/"
        },
        "id": "KRh6YnWGDZRh",
        "outputId": "dea09f9e-73d2-45c0-bf17-5e4968195cc1"
      },
      "outputs": [
        {
          "data": {
            "text/plain": [
              "(torch.Size([64, 1, 28, 28]), torch.Size([64]))"
            ]
          },
          "execution_count": 3,
          "metadata": {},
          "output_type": "execute_result"
        }
      ],
      "source": [
        "image, label = next(iter(trainloader))\n",
        "\n",
        "image.shape, label.shape"
      ]
    },
    {
      "attachments": {},
      "cell_type": "markdown",
      "metadata": {
        "id": "PJMAUuJWt_Ui"
      },
      "source": [
        "The data stored for each image is a 28x28 collection of pixels. We can visually display this using the imshow() function from Matplotlib:"
      ]
    },
    {
      "cell_type": "code",
      "execution_count": 4,
      "metadata": {
        "colab": {
          "base_uri": "https://localhost:8080/",
          "height": 406
        },
        "id": "Z3i8YE6Xt_Uj",
        "outputId": "5404c97c-7cf2-472f-9c6b-2f0f4eff4d28"
      },
      "outputs": [
        {
          "data": {
            "image/png": "[encoded data removed]",
            "text/plain": [
              "<Figure size 640x480 with 1 Axes>"
            ]
          },
          "metadata": {},
          "output_type": "display_data"
        }
      ],
      "source": [
        "import matplotlib.pyplot as plt\n",
        "# permute the dimensions of the image to move the color channels to the last dimension\n",
        "# this is because matplotlib expects the image to be HxWxC (H=height x W=width x C=color channel), \\\n",
        "# while pytorch has it as the first dimension as CxHxW (C=color channel, H=height, W=width)\n",
        "plt.imshow(image[1].permute(1, 2, 0).squeeze(), cmap=\"binary\")\n",
        "plt.axis('off')\n",
        "plt.show()"
      ]
    },
    {
      "cell_type": "code",
      "execution_count": 5,
      "metadata": {
        "colab": {
          "base_uri": "https://localhost:8080/"
        },
        "id": "OGCRMLngt_Uk",
        "outputId": "98e54e2a-e85d-45c3-d7d0-91ca697e8775"
      },
      "outputs": [
        {
          "data": {
            "text/plain": [
              "['T-shirt/top',\n",
              " 'Trouser',\n",
              " 'Pullover',\n",
              " 'Dress',\n",
              " 'Coat',\n",
              " 'Sandal',\n",
              " 'Shirt',\n",
              " 'Sneaker',\n",
              " 'Bag',\n",
              " 'Ankle boot']"
            ]
          },
          "execution_count": 5,
          "metadata": {},
          "output_type": "execute_result"
        }
      ],
      "source": [
        "class_names = trainset.dataset.classes\n",
        "class_names"
      ]
    },
    {
      "cell_type": "code",
      "execution_count": 6,
      "metadata": {
        "colab": {
          "base_uri": "https://localhost:8080/",
          "height": 35
        },
        "id": "dOoBTcHcJGuX",
        "outputId": "7397309a-1e27-440d-d98c-54e9d1a4e5a3"
      },
      "outputs": [
        {
          "data": {
            "text/plain": [
              "'Bag'"
            ]
          },
          "execution_count": 6,
          "metadata": {},
          "output_type": "execute_result"
        }
      ],
      "source": [
        "class_names[label[1]]"
      ]
    },
    {
      "attachments": {},
      "cell_type": "markdown",
      "metadata": {
        "id": "Y7l1vvACt_Ul"
      },
      "source": [
        "## Define a neural network\n",
        "\n"
      ]
    },
    {
      "cell_type": "code",
      "execution_count": 7,
      "metadata": {
        "id": "d4wxdobot_Ul",
        "tags": []
      },
      "outputs": [],
      "source": [
        "import torch.nn as nn\n",
        "\n",
        "model = nn.Sequential(\n",
        "    nn.Flatten(), # this will flatten the image batches as torch.Size([64, 784])\n",
        "    \n",
        "    nn.Linear(784, 256),\n",
        "    nn.ReLU(),\n",
        "\n",
        "    nn.Linear(256, 128),\n",
        "    nn.ReLU(),\n",
        "\n",
        "    nn.Linear(128, 64),\n",
        "    nn.ReLU(),\n",
        "\n",
        "    nn.Linear(64, 10)\n",
        ")"
      ]
    },
    {
      "attachments": {},
      "cell_type": "markdown",
      "metadata": {
        "id": "_QKrot8nt_Un"
      },
      "source": [
        "## Train the model\n",
        "\n"
      ]
    },
    {
      "attachments": {},
      "cell_type": "markdown",
      "metadata": {
        "id": "FOuXdzNCNUqU"
      },
      "source": [
        ":Once the model is created, we can check its structure using and we can put the model to train on the GPU if available."
      ]
    },
    {
      "cell_type": "code",
      "execution_count": 8,
      "metadata": {
        "colab": {
          "base_uri": "https://localhost:8080/"
        },
        "id": "OvC02qIkt_Un",
        "outputId": "432874e4-bb3b-4789-c2a9-c4618ab9af86",
        "scrolled": true,
        "tags": []
      },
      "outputs": [
        {
          "data": {
            "text/plain": [
              "(device(type='cuda'),\n",
              " Sequential(\n",
              "   (0): Flatten(start_dim=1, end_dim=-1)\n",
              "   (1): Linear(in_features=784, out_features=256, bias=True)\n",
              "   (2): ReLU()\n",
              "   (3): Linear(in_features=256, out_features=128, bias=True)\n",
              "   (4): ReLU()\n",
              "   (5): Linear(in_features=128, out_features=64, bias=True)\n",
              "   (6): ReLU()\n",
              "   (7): Linear(in_features=64, out_features=10, bias=True)\n",
              " ))"
            ]
          },
          "execution_count": 8,
          "metadata": {},
          "output_type": "execute_result"
        }
      ],
      "source": [
        "device = torch.device(\"cuda\" if torch.cuda.is_available() else \"cpu\")\n",
        "device, model.to(device)"
      ]
    },
    {
      "cell_type": "code",
      "execution_count": 9,
      "metadata": {
        "id": "WhMP1zWgu1HL"
      },
      "outputs": [],
      "source": [
        "import torch.optim as optim\n",
        "\n",
        "criterion = nn.CrossEntropyLoss()\n",
        "\n",
        "optimizer = optim.Adam(model.parameters(), lr=0.001)\n",
        "\n",
        "epochs = 10"
      ]
    },
    {
      "cell_type": "code",
      "execution_count": 10,
      "metadata": {
        "id": "QSpYjzEisTEc"
      },
      "outputs": [],
      "source": [
        "train_losses=[]\n",
        "train_accuracy=[]\n",
        "\n",
        "def train(epoch):\n",
        "  print('\\nEpoch : %d'%epoch)\n",
        "  \n",
        "  model.train()\n",
        "\n",
        "  running_loss=0\n",
        "  num_correct=0\n",
        "  num_samples=0\n",
        "\n",
        "  for images, labels in trainloader:\n",
        "    \n",
        "    images, labels = images.to(device), labels.to(device)\n",
        "    \n",
        "    outputs=model(images)\n",
        "    \n",
        "    loss=criterion(outputs,labels)\n",
        "    \n",
        "    optimizer.zero_grad()\n",
        "    loss.backward()\n",
        "    optimizer.step()\n",
        "\n",
        "    running_loss += loss.item()\n",
        "    \n",
        "    _, predicted = outputs.max(1)\n",
        "    num_samples += labels.size(0)\n",
        "    num_correct += predicted.eq(labels).sum().item()\n",
        "      \n",
        "  train_loss=running_loss/len(trainloader)\n",
        "  accuracy=100.*num_correct/num_samples\n",
        "  \n",
        "  train_accuracy.append(accuracy)\n",
        "  train_losses.append(train_loss)\n",
        "  print('Train Loss: %.3f | Accuracy: %.3f'%(train_loss,accuracy))"
      ]
    },
    {
      "cell_type": "code",
      "execution_count": 11,
      "metadata": {
        "id": "quW4zFiassKJ"
      },
      "outputs": [],
      "source": [
        "val_losses=[]\n",
        "val_accuracy=[]\n",
        "\n",
        "def valid(epoch):\n",
        "  model.eval()\n",
        "\n",
        "  running_loss=0\n",
        "  num_correct=0\n",
        "  num_samples=0\n",
        "\n",
        "  with torch.no_grad():\n",
        "    for images, labels in validloader:\n",
        "      images, labels = images.to(device), labels.to(device)\n",
        "      \n",
        "      outputs=model(images)\n",
        "\n",
        "      loss= criterion(outputs,labels)\n",
        "      running_loss+=loss.item()\n",
        "      \n",
        "      _, predicted = outputs.max(1)\n",
        "      num_samples += labels.size(0)\n",
        "      num_correct += predicted.eq(labels).sum().item()\n",
        "  \n",
        "  val_loss=running_loss/len(validloader)\n",
        "  accuracy=100.*num_correct/num_samples\n",
        "\n",
        "  val_losses.append(val_loss)\n",
        "  val_accuracy.append(accuracy)\n",
        "\n",
        "  print('Validation Loss: %.3f | Accuracy: %.3f'%(val_loss,accuracy)) "
      ]
    },
    {
      "cell_type": "code",
      "execution_count": 12,
      "metadata": {
        "colab": {
          "base_uri": "https://localhost:8080/"
        },
        "id": "XykpJ_ITtNPJ",
        "outputId": "00c4efe2-d051-4917-a23b-f5912647e2cb"
      },
      "outputs": [
        {
          "name": "stdout",
          "output_type": "stream",
          "text": [
            "\n",
            "Epoch : 1\n",
            "Train Loss: 0.581 | Accuracy: 78.916\n",
            "Validation Loss: 0.426 | Accuracy: 84.800\n",
            "\n",
            "Epoch : 2\n",
            "Train Loss: 0.392 | Accuracy: 85.640\n",
            "Validation Loss: 0.363 | Accuracy: 86.400\n",
            "\n",
            "Epoch : 3\n",
            "Train Loss: 0.349 | Accuracy: 87.122\n",
            "Validation Loss: 0.343 | Accuracy: 87.000\n",
            "\n",
            "Epoch : 4\n",
            "Train Loss: 0.323 | Accuracy: 88.160\n",
            "Validation Loss: 0.339 | Accuracy: 87.480\n",
            "\n",
            "Epoch : 5\n",
            "Train Loss: 0.302 | Accuracy: 88.695\n",
            "Validation Loss: 0.334 | Accuracy: 86.700\n",
            "\n",
            "Epoch : 6\n",
            "Train Loss: 0.286 | Accuracy: 89.420\n",
            "Validation Loss: 0.307 | Accuracy: 88.880\n",
            "\n",
            "Epoch : 7\n",
            "Train Loss: 0.272 | Accuracy: 89.755\n",
            "Validation Loss: 0.323 | Accuracy: 88.440\n",
            "\n",
            "Epoch : 8\n",
            "Train Loss: 0.262 | Accuracy: 90.113\n",
            "Validation Loss: 0.304 | Accuracy: 89.020\n",
            "\n",
            "Epoch : 9\n",
            "Train Loss: 0.247 | Accuracy: 90.564\n",
            "Validation Loss: 0.287 | Accuracy: 89.660\n",
            "\n",
            "Epoch : 10\n",
            "Train Loss: 0.240 | Accuracy: 90.835\n",
            "Validation Loss: 0.289 | Accuracy: 89.540\n"
          ]
        }
      ],
      "source": [
        "for epoch in range(1,epochs+1): \n",
        "  train(epoch)\n",
        "  valid(epoch)"
      ]
    },
    {
      "cell_type": "code",
      "execution_count": 13,
      "metadata": {
        "colab": {
          "base_uri": "https://localhost:8080/",
          "height": 472
        },
        "id": "oJIM3KeyvfNh",
        "outputId": "f64ebbc6-4874-4f83-af48-57ba62d78c32"
      },
      "outputs": [
        {
          "data": {
            "image/png": "[encoded data removed]",
            "text/plain": [
              "<Figure size 640x480 with 1 Axes>"
            ]
          },
          "metadata": {},
          "output_type": "display_data"
        }
      ],
      "source": [
        "#plot accuracy\n",
        "\n",
        "plt.plot(train_accuracy,'-o')\n",
        "plt.plot(val_accuracy,'-o')\n",
        "plt.xlabel('epoch')\n",
        "plt.ylabel('accuracy')\n",
        "plt.legend(['Train','Valid'])\n",
        "plt.title('Train vs Valid Accuracy')\n",
        "\n",
        "plt.show()"
      ]
    },
    {
      "cell_type": "code",
      "execution_count": 14,
      "metadata": {
        "colab": {
          "base_uri": "https://localhost:8080/",
          "height": 472
        },
        "id": "KRy-BxXJvnq8",
        "outputId": "6aaf7351-f3aa-4485-a86a-39eae85cc1c1"
      },
      "outputs": [
        {
          "data": {
            "image/png": "[encoded data removed]",
            "text/plain": [
              "<Figure size 640x480 with 1 Axes>"
            ]
          },
          "metadata": {},
          "output_type": "display_data"
        }
      ],
      "source": [
        "#plot losses\n",
        "\n",
        "plt.plot(train_losses,'-o')\n",
        "plt.plot(val_losses,'-o')\n",
        "plt.xlabel('epoch')\n",
        "plt.ylabel('losses')\n",
        "plt.legend(['Train','Valid'])\n",
        "plt.title('Train vs Valid Losses')\n",
        "\n",
        "plt.show()"
      ]
    },
    {
      "cell_type": "code",
      "execution_count": 15,
      "metadata": {
        "colab": {
          "base_uri": "https://localhost:8080/"
        },
        "id": "x12Zdqfuw2t-",
        "outputId": "07ec8fec-51c6-49ec-c810-bfcbfce03931"
      },
      "outputs": [
        {
          "name": "stdout",
          "output_type": "stream",
          "text": [
            "The accuracy of the model is 88.16%\n"
          ]
        }
      ],
      "source": [
        "num_correct = 0\n",
        "num_samples = 0\n",
        "model.eval()\n",
        "\n",
        "with torch.no_grad():\n",
        "    for images, labels in testloader:\n",
        "        images, labels =images.to(device), labels.to(device)\n",
        "\n",
        "        outputs = model(images)\n",
        "        _, predicted = outputs.max(1)\n",
        "        num_samples += labels.size(0)\n",
        "        num_correct += predicted.eq(labels).sum().item()\n",
        "\n",
        "\n",
        "    accuracy=100.*num_correct/num_samples\n",
        "    print(f\"The accuracy of the model is {accuracy:.2f}%\")"
      ]
    },
    {
      "attachments": {},
      "cell_type": "markdown",
      "metadata": {
        "id": "Z4cXwFFht_Ur"
      },
      "source": [
        "## Save the trained model\n",
        "Now we know the model is reasonably accurate, we can save its trained weights for use later."
      ]
    },
    {
      "cell_type": "code",
      "execution_count": 16,
      "metadata": {},
      "outputs": [],
      "source": [
        "torch.save(model, 'models/fashion-mnist-pytorch.pth')"
      ]
    },
    {
      "attachments": {},
      "cell_type": "markdown",
      "metadata": {
        "id": "2TvswgMQt_Us"
      },
      "source": [
        "## Learn more\n",
        "\n",
        "This notebook was designed to help you understand the basic concepts and principles involved in deep neural networks, using a simple PyTorch example. To learn more about PyTorch, take a look at the <a href=\"https://pytorch.org/tutorials/\" target=\"_blank\">PyTorch Tutorials</a>."
      ]
    }
  ],
  "metadata": {
    "accelerator": "GPU",
    "colab": {
      "gpuType": "T4",
      "provenance": []
    },
    "gpuClass": "standard",
    "kernelspec": {
      "display_name": "pytorch2",
      "language": "python",
      "name": "python3"
    },
    "language_info": {
      "codemirror_mode": {
        "name": "ipython",
        "version": 3
      },
      "file_extension": ".py",
      "mimetype": "text/x-python",
      "name": "python",
      "nbconvert_exporter": "python",
      "pygments_lexer": "ipython3",
      "version": "3.10.9"
    }
  },
  "nbformat": 4,
  "nbformat_minor": 0
}
