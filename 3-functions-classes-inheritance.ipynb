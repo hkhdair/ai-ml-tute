{
 "cells": [
  {
   "attachments": {},
   "cell_type": "markdown",
   "metadata": {},
   "source": [
    "#### Common and useful functions in Python"
   ]
  },
  {
   "attachments": {},
   "cell_type": "markdown",
   "metadata": {},
   "source": [
    "##### max() and min()\n",
    "The `max()` function is used to get the maximum value in a list. \n",
    "\n",
    "The `min()` function is used to get the minimum value in a list.\n",
    "\n",
    "Here's an example:"
   ]
  },
  {
   "cell_type": "code",
   "execution_count": 2,
   "metadata": {},
   "outputs": [
    {
     "name": "stdout",
     "output_type": "stream",
     "text": [
      "5\n",
      "1\n"
     ]
    }
   ],
   "source": [
    "my_list = [1, 2, 3, 4, 5]\n",
    "print(max(my_list))  # prints 5\n",
    "\n",
    "my_list = [1, 2, 3, 4, 5]\n",
    "print(min(my_list))  # prints 1"
   ]
  },
  {
   "attachments": {},
   "cell_type": "markdown",
   "metadata": {},
   "source": [
    "##### sum()\n",
    "\n",
    "The `sum()` function is used to get the sum of a list of numbers. Here's an example:"
   ]
  },
  {
   "cell_type": "code",
   "execution_count": 4,
   "metadata": {},
   "outputs": [
    {
     "name": "stdout",
     "output_type": "stream",
     "text": [
      "15\n"
     ]
    }
   ],
   "source": [
    "my_list = [1, 2, 3, 4, 5]\n",
    "print(sum(my_list))  # prints 15"
   ]
  },
  {
   "attachments": {},
   "cell_type": "markdown",
   "metadata": {},
   "source": [
    "#### Handling strings and lists with built-in functions"
   ]
  },
  {
   "attachments": {},
   "cell_type": "markdown",
   "metadata": {},
   "source": [
    "Python has a lot of built-in functions for handling strings and lists. Here are some examples:"
   ]
  },
  {
   "attachments": {},
   "cell_type": "markdown",
   "metadata": {},
   "source": [
    "##### String fucntions"
   ]
  },
  {
   "attachments": {},
   "cell_type": "markdown",
   "metadata": {},
   "source": [
    "##### split()\n",
    "The `split()` function is used to split a string into a list of substrings. Here's an example:"
   ]
  },
  {
   "cell_type": "code",
   "execution_count": 7,
   "metadata": {},
   "outputs": [
    {
     "name": "stdout",
     "output_type": "stream",
     "text": [
      "['Hello', ' world!']\n"
     ]
    }
   ],
   "source": [
    "my_string = \"Hello, world!\"\n",
    "my_list = my_string.split(\",\")\n",
    "print(my_list)  # prints ['Hello', ' world!']"
   ]
  },
  {
   "attachments": {},
   "cell_type": "markdown",
   "metadata": {},
   "source": [
    "##### join()\n",
    "\n",
    "The `join()` function is used to join a list of strings into a single string. Here's an example:"
   ]
  },
  {
   "cell_type": "code",
   "execution_count": 8,
   "metadata": {},
   "outputs": [
    {
     "name": "stdout",
     "output_type": "stream",
     "text": [
      "Hello, world!\n"
     ]
    }
   ],
   "source": [
    "my_list = ['Hello', 'world!']\n",
    "my_string = \", \".join(my_list)\n",
    "print(my_string)  # prints \"Hello, world!\""
   ]
  },
  {
   "attachments": {},
   "cell_type": "markdown",
   "metadata": {},
   "source": [
    "##### replace()\n",
    "\n",
    "The `replace()` function is used to replace a substring in a string with another substring. Here's an example:"
   ]
  },
  {
   "cell_type": "code",
   "execution_count": 9,
   "metadata": {},
   "outputs": [
    {
     "name": "stdout",
     "output_type": "stream",
     "text": [
      "Hello, Python!\n"
     ]
    }
   ],
   "source": [
    "my_string = \"Hello, world!\"\n",
    "new_string = my_string.replace(\"world\", \"Python\")\n",
    "print(new_string)  # prints \"Hello, Python!\""
   ]
  },
  {
   "attachments": {},
   "cell_type": "markdown",
   "metadata": {},
   "source": [
    "##### List functions\n"
   ]
  },
  {
   "attachments": {},
   "cell_type": "markdown",
   "metadata": {},
   "source": [
    "##### append()\n",
    "The `append()` function is used to add an element to the end of a list. Here's an example:"
   ]
  },
  {
   "cell_type": "code",
   "execution_count": 10,
   "metadata": {},
   "outputs": [
    {
     "name": "stdout",
     "output_type": "stream",
     "text": [
      "[1, 2, 3, 4]\n"
     ]
    }
   ],
   "source": [
    "my_list = [1, 2, 3]\n",
    "my_list.append(4)\n",
    "print(my_list)  # prints [1, 2, 3, 4]"
   ]
  },
  {
   "attachments": {},
   "cell_type": "markdown",
   "metadata": {},
   "source": [
    "##### pop()\n",
    "The `pop()` function is used to remove an element from the end of a list. Here's an example:"
   ]
  },
  {
   "cell_type": "code",
   "execution_count": 11,
   "metadata": {},
   "outputs": [
    {
     "name": "stdout",
     "output_type": "stream",
     "text": [
      "3\n",
      "[1, 2]\n"
     ]
    }
   ],
   "source": [
    "my_list = [1, 2, 3]\n",
    "last_element = my_list.pop()\n",
    "print(last_element)  # prints 3\n",
    "print(my_list)  # prints [1, 2]"
   ]
  },
  {
   "attachments": {},
   "cell_type": "markdown",
   "metadata": {},
   "source": [
    "##### sort()\n",
    "The `sort()` function is used to sort a list. Here's an example:"
   ]
  },
  {
   "cell_type": "code",
   "execution_count": 12,
   "metadata": {},
   "outputs": [
    {
     "name": "stdout",
     "output_type": "stream",
     "text": [
      "[1, 2, 3, 4, 5]\n"
     ]
    }
   ],
   "source": [
    "my_list = [3, 2, 1, 4, 5]\n",
    "my_list.sort()\n",
    "print(my_list)  # prints [1, 2, 3, 4, 5]"
   ]
  },
  {
   "attachments": {},
   "cell_type": "markdown",
   "metadata": {},
   "source": [
    "#### Custom-built functions\n",
    "\n",
    "Custom-built functions are created using the def keyword, followed by the name of the function and its parameters in parentheses. Here's the general syntax:\n",
    "\n",
    "```python\n",
    "def function_name(parameter1, parameter2, ...):\n",
    "    # function body\n",
    "    return value\n",
    "```\n",
    "Here's an example of a custom-built function that adds two numbers together:"
   ]
  },
  {
   "cell_type": "code",
   "execution_count": 5,
   "metadata": {},
   "outputs": [],
   "source": [
    "def add_numbers(x, y):\n",
    "    result = x + y\n",
    "    return result"
   ]
  },
  {
   "attachments": {},
   "cell_type": "markdown",
   "metadata": {},
   "source": [
    "To use this function, you can call it like this:"
   ]
  },
  {
   "cell_type": "code",
   "execution_count": 6,
   "metadata": {},
   "outputs": [
    {
     "name": "stdout",
     "output_type": "stream",
     "text": [
      "5\n"
     ]
    }
   ],
   "source": [
    "sum = add_numbers(2, 3)\n",
    "print(sum)  # prints 5"
   ]
  },
  {
   "attachments": {},
   "cell_type": "markdown",
   "metadata": {},
   "source": [
    "#### Classes and objects in Python"
   ]
  },
  {
   "attachments": {},
   "cell_type": "markdown",
   "metadata": {},
   "source": [
    "##### Defining a class\n",
    "Here's an example of how to define a class in Python:"
   ]
  },
  {
   "cell_type": "code",
   "execution_count": 13,
   "metadata": {},
   "outputs": [],
   "source": [
    "class Person:\n",
    "    def __init__(self, name, age):\n",
    "        self.name = name\n",
    "        self.age = age\n",
    "\n",
    "    def greet(self):\n",
    "        print(\"Hello, my name is \" + self.name + \" and I'm \" + str(self.age) + \" years old.\")\n"
   ]
  },
  {
   "attachments": {},
   "cell_type": "markdown",
   "metadata": {},
   "source": [
    "This class is called Person and has two attributes, name and age, as well as a method called greet()."
   ]
  },
  {
   "attachments": {},
   "cell_type": "markdown",
   "metadata": {},
   "source": [
    "##### Creating an object\n",
    "Once you've defined a class, you can create objects from that class. Here's an example:"
   ]
  },
  {
   "cell_type": "code",
   "execution_count": 14,
   "metadata": {},
   "outputs": [
    {
     "name": "stdout",
     "output_type": "stream",
     "text": [
      "Hello, my name is John and I'm 30 years old.\n"
     ]
    }
   ],
   "source": [
    "person1 = Person(\"John\", 30)\n",
    "person1.greet()  # prints \"Hello, my name is John and I'm 30 years old.\""
   ]
  },
  {
   "attachments": {},
   "cell_type": "markdown",
   "metadata": {},
   "source": [
    "##### Accessing attributes\n",
    "You can access the attributes of an object using dot notation. Here's an example:"
   ]
  },
  {
   "cell_type": "code",
   "execution_count": 16,
   "metadata": {},
   "outputs": [
    {
     "name": "stdout",
     "output_type": "stream",
     "text": [
      "John\n",
      "30\n"
     ]
    }
   ],
   "source": [
    "print(person1.name)  # prints \"John\"\n",
    "print(person1.age)  # prints 30"
   ]
  },
  {
   "attachments": {},
   "cell_type": "markdown",
   "metadata": {},
   "source": [
    "##### Inheritance in Python\n",
    "\n",
    "Inheritance is a powerful feature of object-oriented programming that allows you to define a new class based on an existing class. The new class inherits all the attributes and methods of the existing class, and can also have additional attributes and methods."
   ]
  },
  {
   "attachments": {},
   "cell_type": "markdown",
   "metadata": {},
   "source": [
    "##### Defining a subclass\n",
    "Here's an example of how to define a subclass in Python:"
   ]
  },
  {
   "cell_type": "code",
   "execution_count": 18,
   "metadata": {},
   "outputs": [],
   "source": [
    "class Student(Person):\n",
    "    def __init__(self, name, age, major):\n",
    "        super().__init__(name, age)\n",
    "        self.major = major\n",
    "\n",
    "    def greet(self):\n",
    "        print(\"Hello, my name is \" + self.name + \" and I'm a \" + self.major + \" major.\")"
   ]
  },
  {
   "attachments": {},
   "cell_type": "markdown",
   "metadata": {},
   "source": [
    "This class is called Student and inherits from the `Person` class. It has an additional attribute called `major`, as well as a modified `greet()` method."
   ]
  },
  {
   "attachments": {},
   "cell_type": "markdown",
   "metadata": {},
   "source": [
    "##### Creating an object of the subclass\n",
    "Once you've defined a subclass, you can create objects from that subclass. Here's an example:"
   ]
  },
  {
   "cell_type": "code",
   "execution_count": 19,
   "metadata": {},
   "outputs": [
    {
     "name": "stdout",
     "output_type": "stream",
     "text": [
      "Hello, my name is Jane and I'm a Computer Science major.\n"
     ]
    }
   ],
   "source": [
    "student1 = Student(\"Jane\", 20, \"Computer Science\")\n",
    "student1.greet()  # prints \"Hello, my name is Jane and I'm a Computer Science major.\""
   ]
  },
  {
   "attachments": {},
   "cell_type": "markdown",
   "metadata": {},
   "source": [
    "##### Accessing attributes and methods of the superclass\n",
    "\n",
    "You can access the attributes and methods of the superclass using the `super()` function. Here's an example:"
   ]
  },
  {
   "cell_type": "code",
   "execution_count": 20,
   "metadata": {},
   "outputs": [
    {
     "name": "stdout",
     "output_type": "stream",
     "text": [
      "Jane\n",
      "20\n"
     ]
    }
   ],
   "source": [
    "print(student1.name)  # prints \"Jane\"\n",
    "print(student1.age)  # prints 20"
   ]
  },
  {
   "attachments": {},
   "cell_type": "markdown",
   "metadata": {},
   "source": [
    "##### Conclusion\n",
    "In this notebook, we've covered some of the most common and useful functions in Python, as well as how to create your own custom-built function. We've also learned about classes and objects in Python, and how to implement inheritance."
   ]
  }
 ],
 "metadata": {
  "kernelspec": {
   "display_name": "pytorch2",
   "language": "python",
   "name": "python3"
  },
  "language_info": {
   "codemirror_mode": {
    "name": "ipython",
    "version": 3
   },
   "file_extension": ".py",
   "mimetype": "text/x-python",
   "name": "python",
   "nbconvert_exporter": "python",
   "pygments_lexer": "ipython3",
   "version": "3.10.9"
  },
  "orig_nbformat": 4
 },
 "nbformat": 4,
 "nbformat_minor": 2
}
