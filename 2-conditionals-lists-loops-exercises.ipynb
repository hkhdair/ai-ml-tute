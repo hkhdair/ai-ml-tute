{
 "cells": [
  {
   "attachments": {},
   "cell_type": "markdown",
   "metadata": {},
   "source": [
    "#### Exercise 1: Even or Odd"
   ]
  },
  {
   "attachments": {},
   "cell_type": "markdown",
   "metadata": {},
   "source": [
    "Write a program that takes an integer input from the user and prints whether the number is even or odd."
   ]
  },
  {
   "cell_type": "code",
   "execution_count": 1,
   "metadata": {},
   "outputs": [
    {
     "name": "stdout",
     "output_type": "stream",
     "text": [
      "Even\n"
     ]
    }
   ],
   "source": [
    "# solution\n",
    "num = int(input(\"Enter a number: \"))\n",
    "if num % 2 == 0:\n",
    "    print(\"Even\")\n",
    "else:\n",
    "    print(\"Odd\")\n",
    "    \n",
    "# input 6"
   ]
  },
  {
   "attachments": {},
   "cell_type": "markdown",
   "metadata": {},
   "source": [
    "#### Exercise 2: Multiplication Table"
   ]
  },
  {
   "attachments": {},
   "cell_type": "markdown",
   "metadata": {},
   "source": [
    "Write a program that takes an integer input from the user and prints the multiplication table for that number."
   ]
  },
  {
   "cell_type": "code",
   "execution_count": 2,
   "metadata": {},
   "outputs": [
    {
     "name": "stdout",
     "output_type": "stream",
     "text": [
      "6 x 1 = 6\n",
      "6 x 2 = 12\n",
      "6 x 3 = 18\n",
      "6 x 4 = 24\n",
      "6 x 5 = 30\n",
      "6 x 6 = 36\n",
      "6 x 7 = 42\n",
      "6 x 8 = 48\n",
      "6 x 9 = 54\n",
      "6 x 10 = 60\n"
     ]
    }
   ],
   "source": [
    "# solution\n",
    "num = int(input(\"Enter a number: \"))\n",
    "for i in range(1, 11):\n",
    "    print(num, \"x\", i, \"=\", num*i)\n",
    "    \n",
    "# input 6"
   ]
  },
  {
   "attachments": {},
   "cell_type": "markdown",
   "metadata": {},
   "source": [
    "#### Exercise 3: List Manipulation"
   ]
  },
  {
   "attachments": {},
   "cell_type": "markdown",
   "metadata": {},
   "source": [
    "Write a program that takes a list of integers as input from the user and prints the sum of all the even numbers in the list."
   ]
  },
  {
   "cell_type": "code",
   "execution_count": 3,
   "metadata": {},
   "outputs": [
    {
     "name": "stdout",
     "output_type": "stream",
     "text": [
      "The sum of all even numbers in the list is: 12\n"
     ]
    }
   ],
   "source": [
    "# solution\n",
    "# Take input from user\n",
    "numbers = input(\"Enter a list of integers separated by spaces: \")\n",
    "\n",
    "# Convert string to list of integers\n",
    "numbers = [int(num) for num in numbers.split()]\n",
    "\n",
    "# Find sum of even numbers\n",
    "even_sum = sum(num for num in numbers if num % 2 == 0)\n",
    "\n",
    "# Print result\n",
    "print(f\"The sum of all even numbers in the list is: {even_sum}\")\n",
    "\n",
    "# input 1 2 3 4 5 6 7"
   ]
  },
  {
   "attachments": {},
   "cell_type": "markdown",
   "metadata": {},
   "source": [
    "#### Exercise 4: Factorial Calculator"
   ]
  },
  {
   "attachments": {},
   "cell_type": "markdown",
   "metadata": {},
   "source": [
    "Write a program that prompts the user to enter a number and then calculates and prints the factorial of that number. The program should use a loop to calculate the factorial."
   ]
  },
  {
   "cell_type": "code",
   "execution_count": 4,
   "metadata": {},
   "outputs": [
    {
     "name": "stdout",
     "output_type": "stream",
     "text": [
      "Factorial of 5 is 120.\n"
     ]
    }
   ],
   "source": [
    "# solution\n",
    "num = int(input(\"Enter a number: \"))\n",
    "\n",
    "factorial = 1\n",
    "\n",
    "if num < 0:\n",
    "    print(\"Factorial cannot be calculated for negative numbers.\")\n",
    "elif num == 0:\n",
    "    print(\"Factorial of 0 is 1.\")\n",
    "else:\n",
    "    for i in range(1, num + 1):\n",
    "        factorial *= i\n",
    "    print(f\"Factorial of {num} is {factorial}.\")\n",
    "    \n",
    "# input 5"
   ]
  },
  {
   "cell_type": "code",
   "execution_count": null,
   "metadata": {},
   "outputs": [],
   "source": []
  }
 ],
 "metadata": {
  "kernelspec": {
   "display_name": "pytorch2",
   "language": "python",
   "name": "python3"
  },
  "language_info": {
   "codemirror_mode": {
    "name": "ipython",
    "version": 3
   },
   "file_extension": ".py",
   "mimetype": "text/x-python",
   "name": "python",
   "nbconvert_exporter": "python",
   "pygments_lexer": "ipython3",
   "version": "3.10.9"
  },
  "orig_nbformat": 4
 },
 "nbformat": 4,
 "nbformat_minor": 2
}
