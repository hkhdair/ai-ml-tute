{
 "cells": [
  {
   "attachments": {},
   "cell_type": "markdown",
   "metadata": {},
   "source": [
    "Python is a popular high-level programming language known for its simplicity, readability, and versatility. It is commonly used in web development, data analysis, artificial intelligence, and scientific computing. In this notebook, we will cover the basics of Python programming, including installation, data types, basic operators, and input/output functions."
   ]
  },
  {
   "attachments": {},
   "cell_type": "markdown",
   "metadata": {},
   "source": [
    "#### Installation"
   ]
  },
  {
   "attachments": {},
   "cell_type": "markdown",
   "metadata": {},
   "source": [
    "To use Python, you need to first install it on your computer. Python can be downloaded for free from the official Python website: https://www.python.org/downloads/.\n",
    "\n",
    "There are two major versions of Python: Python 2 and Python 3. Python 2 has reached end-of-life and is no longer supported, so it is recommended to use Python 3 for new projects.\n",
    "\n",
    "Once you have downloaded and installed Python, you can open a Python console or an Integrated Development Environment (IDE) to start writing and executing Python code.\n",
    "\n",
    "Note: you can open the entire code demonstrated here in Google Colab, refer to the table content in README file."
   ]
  },
  {
   "attachments": {},
   "cell_type": "markdown",
   "metadata": {},
   "source": [
    "#### Data Types"
   ]
  },
  {
   "attachments": {},
   "cell_type": "markdown",
   "metadata": {},
   "source": [
    "In Python, there are several built-in data types that are used to represent different kinds of values. The most commonly used data types include:\n",
    "\n",
    "- Boolean (bool): represents a value of either True or False\n",
    "- Integer (int): represents whole numbers (e.g., 0, 1, 200, 3000, 4000000, -40)\n",
    "Float (float): represents decimal numbers (e.g., 1.0, 2.5, -3.14)\n",
    "String (str): represents a sequence of characters (e.g., \"hello\", \"world\")\n",
    "- List: represents a collection of values that can be of different data types (e.g., [1, \"hello\", 3.14, True])\n",
    "- Tuple: similar to a list, but it is immutable (i.e., cannot be modified after creation)\n",
    "- Dictionary: represents a collection of key-value pairs (e.g., {\"name\": \"John\", \"age\": 25})\n",
    "\n",
    "To create a variable in Python, you can simply assign a value to it using the equals sign (=). For example:"
   ]
  },
  {
   "cell_type": "code",
   "execution_count": 2,
   "metadata": {},
   "outputs": [],
   "source": [
    "x = 5\n",
    "y = 3.14\n",
    "name = \"John\"\n",
    "is_student = True\n",
    "my_list = [1 , \"John\", 3.14, True]\n",
    "my_tuple = (\"John\", \"Mary\")\n",
    "my_dict = {\"name\":\"John\", \"age\":25}"
   ]
  },
  {
   "attachments": {},
   "cell_type": "markdown",
   "metadata": {},
   "source": [
    "#### Operators"
   ]
  },
  {
   "attachments": {},
   "cell_type": "markdown",
   "metadata": {},
   "source": [
    "In Python, operators are used to perform operations on variables and values. Some of the most commonly used operators include:\n",
    "\n",
    "- Arithmetic operators: used to perform arithmetic operations (e.g., + for addition, - for subtraction, * for multiplication, / for division, % for modulus, ** for exponentiation)\n",
    "- Comparison operators: used to compare two values (e.g., == for equality, != for inequality, < for less than, > for greater than, <= for less than or equal to, >= for greater than or equal to)\n",
    "= Logical operators: used to combine multiple conditions (e.g., and for logical and, or for logical or, not for logical not)\n",
    "- Assignment operators: used to assign a value to a variable (e.g., = for simple assignment, += for addition assignment, -= for subtraction assignment, *= for multiplication assignment, /= for division assignment, %= for modulus assignment)\n",
    "\n",
    "For example, you can use operators to perform arithmetic operations:"
   ]
  },
  {
   "cell_type": "code",
   "execution_count": 3,
   "metadata": {},
   "outputs": [],
   "source": [
    "x = 5\n",
    "y = 3\n",
    "\n",
    "z = x + y  # z is 8\n",
    "w = x * y  # w is 15"
   ]
  },
  {
   "attachments": {},
   "cell_type": "markdown",
   "metadata": {},
   "source": [
    "You can also use comparison operators to compare two values:"
   ]
  },
  {
   "cell_type": "code",
   "execution_count": 4,
   "metadata": {},
   "outputs": [],
   "source": [
    "x = 5\n",
    "y = 3\n",
    "\n",
    "is_greater = x > y  # is_greater is True\n",
    "is_equal = x == y   # is_equal is False"
   ]
  },
  {
   "attachments": {},
   "cell_type": "markdown",
   "metadata": {},
   "source": [
    "#### Print and Input Functions"
   ]
  },
  {
   "attachments": {},
   "cell_type": "markdown",
   "metadata": {},
   "source": [
    "In Python, you can use the print function to display text or values on the screen. For example:"
   ]
  },
  {
   "cell_type": "code",
   "execution_count": 5,
   "metadata": {},
   "outputs": [
    {
     "name": "stdout",
     "output_type": "stream",
     "text": [
      "The value of x is: 5\n",
      "The value of y is: 3\n",
      "The sum of x and y is: 8\n"
     ]
    }
   ],
   "source": [
    "x = 5\n",
    "y = 3\n",
    "\n",
    "print(\"The value of x is:\", x)\n",
    "print(\"The value of y is:\", y)\n",
    "print(\"The sum of x and y is:\", x + y)"
   ]
  },
  {
   "attachments": {},
   "cell_type": "markdown",
   "metadata": {},
   "source": [
    "You can also use the input function to get user input from the keyboard. For example:"
   ]
  },
  {
   "cell_type": "code",
   "execution_count": 7,
   "metadata": {},
   "outputs": [
    {
     "name": "stdout",
     "output_type": "stream",
     "text": [
      "Your name is: John\n",
      "Your age is: 25\n"
     ]
    }
   ],
   "source": [
    "name = input(\"What is your name? \")\n",
    "age = input(\"What is your age? \")\n",
    "\n",
    "print(\"Your name is:\", name)\n",
    "print(\"Your age is:\", age)"
   ]
  },
  {
   "attachments": {},
   "cell_type": "markdown",
   "metadata": {},
   "source": [
    "##### Print using string Formatting"
   ]
  },
  {
   "attachments": {},
   "cell_type": "markdown",
   "metadata": {},
   "source": [
    "You can use string formatting to insert variables into a string. There are several ways to do this in Python, but one common method is to use curly braces {} as placeholders for the variables, and then pass the variables as arguments to the format() method. For example:"
   ]
  },
  {
   "cell_type": "code",
   "execution_count": 8,
   "metadata": {},
   "outputs": [
    {
     "name": "stdout",
     "output_type": "stream",
     "text": [
      "My name is John and I am 25 years old.\n"
     ]
    }
   ],
   "source": [
    "name = \"John\"\n",
    "age = 25\n",
    "\n",
    "print(\"My name is {} and I am {} years old.\".format(name, age))"
   ]
  },
  {
   "attachments": {},
   "cell_type": "markdown",
   "metadata": {},
   "source": [
    "##### Print using F-strings"
   ]
  },
  {
   "attachments": {},
   "cell_type": "markdown",
   "metadata": {},
   "source": [
    "F-strings are a new feature in Python 3.6+ that allow you to embed expressions inside string literals, using the {} syntax. For example:"
   ]
  },
  {
   "cell_type": "code",
   "execution_count": 9,
   "metadata": {},
   "outputs": [
    {
     "name": "stdout",
     "output_type": "stream",
     "text": [
      "My name is John and I am 25 years old.\n"
     ]
    }
   ],
   "source": [
    "name = \"John\"\n",
    "age = 25\n",
    "\n",
    "print(f\"My name is {name} and I am {age} years old.\")"
   ]
  },
  {
   "attachments": {},
   "cell_type": "markdown",
   "metadata": {},
   "source": [
    "#### Conclusion"
   ]
  },
  {
   "attachments": {},
   "cell_type": "markdown",
   "metadata": {},
   "source": [
    "In this notebook, we covered the basics of Python programming, including installation, data types, operators, and input/output functions. With these fundamentals, you can start building simple programs and gradually work your way up to more complex applications. Happy Python coding!"
   ]
  },
  {
   "cell_type": "code",
   "execution_count": null,
   "metadata": {},
   "outputs": [],
   "source": []
  }
 ],
 "metadata": {
  "kernelspec": {
   "display_name": "base",
   "language": "python",
   "name": "python3"
  },
  "language_info": {
   "codemirror_mode": {
    "name": "ipython",
    "version": 3
   },
   "file_extension": ".py",
   "mimetype": "text/x-python",
   "name": "python",
   "nbconvert_exporter": "python",
   "pygments_lexer": "ipython3",
   "version": "3.10.9"
  },
  "orig_nbformat": 4
 },
 "nbformat": 4,
 "nbformat_minor": 2
}
